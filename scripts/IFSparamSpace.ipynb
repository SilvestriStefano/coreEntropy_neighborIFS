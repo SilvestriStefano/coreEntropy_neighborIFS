{
 "cells": [
  {
   "cell_type": "markdown",
   "id": "35c0cc83",
   "metadata": {},
   "source": [
    "I try to recreate Bandt's algorithm to draw the parameter regions\n",
    "\n",
    "$$ \\mathcal{M}=\\left\\{\\lambda\\in\\mathbb{D}\\setminus{0}~\\bigg|~1+\\sum_{j=1}^{\\infty}a_j\\lambda^j=0\\text{ with }a_j\\in\\{-1,0,+1\\}\\right\\} $$\n",
    "\n",
    "and\n",
    "\n",
    "$$ \\mathcal{M}_0=\\left\\{\\lambda\\in\\mathbb{D}\\setminus{0}~\\bigg|~1+\\sum_{j=1}^{\\infty}a_j\\lambda^j=0\\text{ with }a_j\\in\\{-1,+1\\}\\right\\} $$\n"
   ]
  },
  {
   "cell_type": "code",
   "execution_count": 1,
   "id": "039408ce",
   "metadata": {},
   "outputs": [],
   "source": [
    "import math\n",
    "from PIL import Image"
   ]
  },
  {
   "cell_type": "code",
   "execution_count": 2,
   "id": "a61dcf83",
   "metadata": {},
   "outputs": [],
   "source": [
    "def checkPolyPZM( z, currVal, n, maxDeg ):\n",
    "    \"\"\"\n",
    "    Recursive function that checks whether the norm of any polynomial \n",
    "    with coefficients -1,0,+1 evaluated at z is larger than |z^n|/(1-|z|)\n",
    "\n",
    "    :param z: the input of the polynomial\n",
    "    :type z: complex number\n",
    "    :param currVal: current value of the polynomial\n",
    "    :type currVal: int\n",
    "    :param n: current degree of the polynomial\n",
    "    :type n: int\n",
    "    :param maxDeg: maximum degree of the polynomial\n",
    "    :type maxDeg: int\n",
    "    :returns: the degree of the polynomial\n",
    "    :rtype: int\n",
    "    \"\"\"\n",
    "    if n == maxDeg:\n",
    "        return n\n",
    "    \n",
    "    #Check if this polynomial is too large\n",
    "    if (abs(currVal) > (abs(z)**(n+1)/(1 - abs(z))) ):\n",
    "        return n-1\n",
    "    \n",
    "    #Still good. Keep going: only keep the branch that doesn't die\n",
    "    result = max(checkPolyPZM(z, currVal + z**(n+1), n+1, maxDeg), checkPolyPZM(z, currVal, n+1, maxDeg), checkPolyPZM(z, currVal - z**(n+1), n+1, maxDeg) )\n",
    "    return result"
   ]
  },
  {
   "cell_type": "code",
   "execution_count": 3,
   "id": "6b4a0dc0",
   "metadata": {},
   "outputs": [],
   "source": [
    "def checkPolyPM( z, currVal, n, maxDeg ):\n",
    "    \"\"\"\n",
    "    Recursive function that checks whether the norm of any polynomial \n",
    "    with coefficients -1,+1 evaluated at z is larger than |z^n|/(1-|z|)\n",
    "\n",
    "    :param z: the input of the polynomial\n",
    "    :type z: complex number\n",
    "    :param currVal: current value of the polynomial\n",
    "    :type currVal: int\n",
    "    :param n: current degree of the polynomial\n",
    "    :type n: int\n",
    "    :param maxDeg: maximum degree of the polynomial\n",
    "    :type maxDeg: int\n",
    "    :returns: the degree of the polynomial\n",
    "    :rtype: int\n",
    "    \"\"\"\n",
    "    if n == maxDeg:\n",
    "        return n\n",
    "    \n",
    "    #Check if this polynomial is too large\n",
    "    if (abs(currVal) > (abs(z)**(n+1)/(1 - abs(z))) ):\n",
    "        return n-1\n",
    "    \n",
    "    #Still good. Keep going: only keep the branch that doesn't die\n",
    "    result = max(checkPolyPM(z, currVal + z**(n+1), n+1, maxDeg), checkPolyPM(z, currVal - z**(n+1), n+1, maxDeg) )\n",
    "    return result"
   ]
  },
  {
   "cell_type": "markdown",
   "id": "f626889a",
   "metadata": {},
   "source": [
    "# Plots"
   ]
  },
  {
   "cell_type": "markdown",
   "id": "40bf0eaf",
   "metadata": {},
   "source": [
    "The following draws $\\mathcal{M}_0$ inside the disk of radius $2^{-1/4}$.\n",
    "\n",
    "It takes approx 20min with a `WIDTH=1024` and `max_deg=25` on my (very old) System76 Lemur"
   ]
  },
  {
   "cell_type": "code",
   "execution_count": null,
   "id": "9cf47b0c",
   "metadata": {},
   "outputs": [],
   "source": [
    "WIDTH = 1024\n",
    "buf=70\n",
    "\n",
    "xmin=-0.842\n",
    "xmax=0.842\n",
    "ymin=-0.842\n",
    "ymax=0.842\n",
    "\n",
    "max_deg =25\n",
    "\n",
    "image = Image.new(\"RGB\", (WIDTH, WIDTH))\n",
    "\n",
    "pixels = image.load()\n",
    "\n",
    "for x in range(image.size[0]):   \n",
    "    for y in range(image.size[1]): \n",
    "        px=((xmax-xmin)/(WIDTH-1))*x+xmin  # Convert pixel x-coordinate \n",
    "        py=((ymin-ymax)/(WIDTH-1))*y+ymax  # Convert pixel y-coordinate \n",
    "        w=complex(px,py)\n",
    "        if (x >WIDTH/2) :\n",
    "            pixels[x, y]=pixels[WIDTH-x, y]\n",
    "        elif (y >WIDTH/2) :\n",
    "            pixels[x, y]=pixels[x, -y]\n",
    "#             py = -py\n",
    "#             w=complex(px,py)\n",
    "        elif (abs(w) > 2**(-0.25)) or (abs(w) < 0.5):\n",
    "            pixels[x,y] = 0\n",
    "#             px = px/(px*px+py*py)\n",
    "#             py = py/(px*px+py*py)\n",
    "#             w=complex(px,py)\n",
    "        else :\n",
    "            output = checkPolyPM(w,1,0,max_deg)\n",
    "            if ( output == max_deg ):\n",
    "                pixels[x, y] = (102,0,153)\n",
    "            else :\n",
    "                pixels[x,y] = (77,int((255-buf)/max_deg*output)+buf,250)\n",
    "#             output = checkPolynomial(w,1,0,max_deg)\n",
    "#             pixels[x,y] = (77,int( ((255-buf)/max_deg*output)+buf ),250)\n",
    "# display the output\n",
    "# image.show() #opens a new window\n",
    "image.save('tryOne.png', 'PNG') #save the image in the same folder as the jupyter notebook"
   ]
  },
  {
   "cell_type": "markdown",
   "id": "81454158",
   "metadata": {},
   "source": [
    "The following draws $\\mathcal{M}_0$ inside the disk of radius $2^{-1/2}$, BUT ONLY in the I quadrant.\n",
    "\n",
    "It takes approx 9sec with a `WIDTH=1024` and `max_deg=25` on my (very old) System76 Lemur"
   ]
  },
  {
   "cell_type": "code",
   "execution_count": 6,
   "id": "06e7cb74",
   "metadata": {},
   "outputs": [],
   "source": [
    "\n",
    "WIDTH = 1024\n",
    "buf=70\n",
    "\n",
    "xmin=0.0\n",
    "xmax=0.742\n",
    "ymin=0.0\n",
    "ymax=0.742\n",
    "\n",
    "max_deg = 10\n",
    "\n",
    "image = Image.new(\"RGB\", (WIDTH, WIDTH))\n",
    "\n",
    "pixels = image.load()\n",
    "\n",
    "for x in range(image.size[0]):   \n",
    "    for y in range(image.size[1]): \n",
    "        px=((xmax-xmin)/(WIDTH-1))*x+xmin  # Convert pixel x-coordinate \n",
    "        py=((ymin-ymax)/(WIDTH-1))*y+ymax  # Convert pixel y-coordinate \n",
    "        w=complex(px,py)\n",
    "#         if (x >WIDTH/2) :\n",
    "#             pixels[x, y]=pixels[WIDTH-x, y]\n",
    "#         elif (y >WIDTH/2) :\n",
    "#             pixels[x, y]=pixels[x, -y]\n",
    "# #             py = -py\n",
    "# #             w=complex(px,py)\n",
    "        if (abs(w) > 2**(-0.5)) or (abs(w) < 0.5):\n",
    "            pixels[x,y] =  (255,255,255)\n",
    "#             px = px/(px*px+py*py)\n",
    "#             py = py/(px*px+py*py)\n",
    "#             w=complex(px,py)\n",
    "        else :\n",
    "            output = checkPolyPM(w,1,0,max_deg)\n",
    "            if ( output == max_deg ):\n",
    "                pixels[x, y] = 0#(102,0,153)\n",
    "            else :\n",
    "                pixels[x,y] = (255,255,255) #(77,int((255-buf)/max_deg*output)+buf,250)\n",
    "#             output = checkPolynomial(w,1,0,max_deg)\n",
    "#             pixels[x,y] = (77,int( ((255-buf)/max_deg*output)+buf ),250)\n",
    "# display the output\n",
    "# image.show() #opens a new window\n",
    "image.save('tryTwo.png', 'PNG') #save the image in the same folder as the jupyter notebook"
   ]
  },
  {
   "cell_type": "code",
   "execution_count": null,
   "id": "b8f88a68",
   "metadata": {},
   "outputs": [],
   "source": []
  }
 ],
 "metadata": {
  "kernelspec": {
   "display_name": "Python 3",
   "language": "python",
   "name": "python3"
  },
  "language_info": {
   "codemirror_mode": {
    "name": "ipython",
    "version": 3
   },
   "file_extension": ".py",
   "mimetype": "text/x-python",
   "name": "python",
   "nbconvert_exporter": "python",
   "pygments_lexer": "ipython3",
   "version": "3.8.8"
  }
 },
 "nbformat": 4,
 "nbformat_minor": 5
}
