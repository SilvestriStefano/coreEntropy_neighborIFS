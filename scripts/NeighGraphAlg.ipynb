{
 "cells": [
  {
   "cell_type": "code",
   "execution_count": 1,
   "metadata": {},
   "outputs": [],
   "source": [
    "import numpy as np\n",
    "from mpmath import mp\n",
    "from nested_lookup import nested_delete"
   ]
  },
  {
   "cell_type": "code",
   "execution_count": 2,
   "metadata": {},
   "outputs": [],
   "source": [
    "mp.dps = 50  # Computation precision is 50 digits"
   ]
  },
  {
   "cell_type": "code",
   "execution_count": 77,
   "metadata": {},
   "outputs": [],
   "source": [
    "def neighGraphAlg(z,maxDepth):\n",
    "    \"\"\"\n",
    "    finds the edges in the neighbor graph for\n",
    "    the parameter z.\n",
    "\n",
    "    :param z: the parameter to check\n",
    "    :type z: complex number\n",
    "    :param maxDepth: maximum depth\n",
    "    :type maxDepth: int\n",
    "    :returns: the edges of the graph\n",
    "    :rtype: dict\n",
    "    \"\"\"\n",
    "    prec = 1e-14\n",
    "    #initialize the dictionary of vertices in the graph\n",
    "    vertices = {\n",
    "        'id':0.,\n",
    "        'h1':mp.mpc(-2./param),\n",
    "        'h2':mp.mpc(2./param)\n",
    "    }\n",
    "    #initialize the dictionary of new vertices at the current stage\n",
    "    newVertices = {\n",
    "        'h1':mp.mpc(-2./param),\n",
    "        'h2':mp.mpc(2./param)\n",
    "    }\n",
    "    #initialize the dictionary of edges between the vertices\n",
    "    edges = {\n",
    "        'id':{'h1':{'label':'+ -','weight':0.75},\n",
    "              'h2':{'label':'- +','weight':0.25}}\n",
    "    }\n",
    "    \n",
    "    \n",
    "    depth = 0\n",
    "    neighborIndex = 2; #the label of the last vertex created\n",
    "    \n",
    "    criticalRad = mp.mpf(2./(1-np.abs(param))) #the escape radius\n",
    "    \n",
    "    while len(newVertices) and depth<maxDepth:\n",
    "        newChildren = {}\n",
    "        verticesWithNoChild = {}\n",
    "        \n",
    "        #boolean values to check the existence of children of a vertex\n",
    "        noChildPM = False\n",
    "        noChildStar = False\n",
    "        noChildMP = False\n",
    "        \n",
    "        # ----------------------------- for each vertex in newVertices --------------------------------------------\n",
    "        for keyNb,valNb in newVertices.items():\n",
    "            #compute the possible new neighbors\n",
    "            phiStar = mp.mpc(1/param*(valNb)) # corresponds to fpm^(-1) g fpm\n",
    "            phiPM = mp.mpc(1/param*(valNb-2)) # corresponds to fp^(-1) g fm\n",
    "            phiMP = mp.mpc(1/param*(valNb+2)) # corresponds to fm^(-1) g fp\n",
    "            \n",
    "            #check if the computed neighbors exist already in the list of vertices\n",
    "            matchStar = [key for key, value in vertices.items() if np.abs(value-phiStar) <= prec]#if value==phiStar] #\n",
    "            matchPM = [key for key, value in vertices.items() if np.abs(value-phiPM) <= prec]#if value==phiPM] #\n",
    "            matchMP = [key for key, value in vertices.items() if np.abs(value-phiMP) <= prec]#if value==phiMP] #\n",
    "            \n",
    "            \n",
    "            if len(matchStar)==0: # phiStar is POSSIBLY a new vertex\n",
    "                if mp.mpf(np.abs(phiStar))<=criticalRad or mp.mpf(np.abs(np.abs(phiStar)-criticalRad))<=prec:\n",
    "                    noChildStar = False # phiStar IS a child vertex\n",
    "                    neighborIndex+=1\n",
    "                    \n",
    "                    newChildren.update({f\"h{neighborIndex}\": phiStar})\n",
    "                    vertices.update({f\"h{neighborIndex}\": phiStar})\n",
    "                    \n",
    "                    #if the current vertex has already some connections\n",
    "                    #update with a new one\n",
    "                    #otherwise create a new one\n",
    "                    if keyNb in edges: \n",
    "                        edges[keyNb].update({f\"h{neighborIndex}\":{'label':' * ', 'weight': 0.5}})                        \n",
    "                    else:\n",
    "                        edges.update({keyNb:{f\"h{neighborIndex}\":{'label':' * ', 'weight': 0.5}}})\n",
    "                else: # phiStar is NOT a VALID neighbor \n",
    "                    noChildStar = True\n",
    "                    \n",
    "            else: # phiStar ALREADY EXISTS\n",
    "                noChildStar = False \n",
    "                if keyNb in edges:\n",
    "                    edges[keyNb].update({matchStar[0]:{'label':' * ', 'weight': 0.5}})\n",
    "                else:\n",
    "                    edges.update({keyNb:{matchStar[0]:{'label':' * ', 'weight': 0.5}}})\n",
    "                \n",
    "            if len(matchPM)==0: # phiPM is POSSIBLY a new vertex\n",
    "                if mp.mpf(np.abs(phiPM))<=criticalRad or mp.mpf(np.abs(np.abs(phiPM)-criticalRad))<=prec:\n",
    "                    noChildPM = False # phiPM IS a child vertex\n",
    "                    neighborIndex += 1\n",
    "                                        \n",
    "                    newChildren.update({f\"h{neighborIndex}\": phiPM})\n",
    "                    vertices.update({f\"h{neighborIndex}\": phiPM})\n",
    "                    \n",
    "                    #if the current vertex has already some connections\n",
    "                    #update with a new one\n",
    "                    #otherwise create a new one\n",
    "                    if keyNb in edges:\n",
    "                        edges[keyNb].update({f\"h{neighborIndex}\":{'label':'+ -', 'weight': 0.75}})\n",
    "                    else:\n",
    "                        edges.update({keyNb:{f\"h{neighborIndex}\":{'label':'+ -', 'weight': 0.75}}})\n",
    "                else: # phiPM is NOT a VALID neighbor \n",
    "                    noChildPM = True\n",
    "            \n",
    "            else: # phiPM ALREADY EXISTS\n",
    "                noChildStar = False\n",
    "                if keyNb in edges:\n",
    "                    edges[keyNb].update({matchPM[0]:{'label':'+ -', 'weight': 0.75}})\n",
    "                else:\n",
    "                    edges.update({keyNb:{matchPM[0]:{'label':'+ -', 'weight': 0.75}}})\n",
    "            \n",
    "            if len(matchMP)==0: # phiMP is POSSIBLY a new vertex\n",
    "                if mp.mpf(np.abs(phiMP))<=criticalRad or mp.mpf(np.abs(np.abs(phiMP)-criticalRad))<=prec:\n",
    "                    noChildMP = False # phiMP IS a child vertex\n",
    "                    neighborIndex += 1\n",
    "                    \n",
    "                    newChildren.update({f\"h{neighborIndex}\": phiMP})\n",
    "                    vertices.update({f\"h{neighborIndex}\": phiMP})\n",
    "                    \n",
    "                    #if the current vertex has already some connections\n",
    "                    #update with a new one\n",
    "                    #otherwise create a new one\n",
    "                    if keyNb in edges:\n",
    "                        edges[keyNb].update({f\"h{neighborIndex}\":{'label':'- +', 'weight': 0.25}})\n",
    "                    else:\n",
    "                        edges.update({keyNb:{f\"h{neighborIndex}\":{'label':'- +', 'weight': 0.25}}})\n",
    "                else: # phiMP is NOT a VALID neighbor \n",
    "                    noChildMP = True\n",
    "            \n",
    "            else: # phiMP ALREADY EXISTS\n",
    "                noChildStar = False\n",
    "                if keyNb in edges:\n",
    "                    edges[keyNb].update({matchMP[0]:{'label':'- +', 'weight': 0.25}})\n",
    "                else:\n",
    "                    edges.update({keyNb:{matchMP[0]:{'label':'- +', 'weight': 0.25}}})\n",
    "                    \n",
    "            #in the case that all the computed neighbors are  not valid\n",
    "            #save the current neighbor\n",
    "            if noChildStar and noChildPM and noChildMP:\n",
    "                verticesWithNoChild.update({keyNb: valNb})\n",
    "        #------------------------------------- end for loop ----------------------------------------------------\n",
    "        \n",
    "        #if there are neighbors without children\n",
    "        #remove them from the list of vertices\n",
    "        #and get rid of any edge connected to them \n",
    "        if len(verticesWithNoChild)!=0:\n",
    "            vertices = {k:v for (k,v) in vertices.items() if k not in verticesWithNoChild }\n",
    "            for key in verticesWithNoChild:\n",
    "                edges = nested_delete(edges, key)\n",
    "        \n",
    "        #update the list of new vertices with the newly found vertices\n",
    "        newVertices = newChildren\n",
    "        depth += 1\n",
    "        \n",
    "    \n",
    "    return edges\n"
   ]
  },
  {
   "cell_type": "markdown",
   "metadata": {},
   "source": [
    "# Examples"
   ]
  },
  {
   "cell_type": "markdown",
   "metadata": {},
   "source": [
    "## NOTE:\n",
    " make sure to erase vertices with out degree equal to 0., i.e. those nodes that have no children."
   ]
  },
  {
   "cell_type": "code",
   "execution_count": null,
   "metadata": {},
   "outputs": [],
   "source": [
    "import networkx as nx\n",
    "import matplotlib.pyplot as plt"
   ]
  },
  {
   "cell_type": "code",
   "execution_count": 79,
   "metadata": {
    "scrolled": false
   },
   "outputs": [],
   "source": [
    "\n",
    "neighborgraph = neighGraphAlg(mp.mpc(1/np.sqrt(2)),13)\n",
    "\n",
    "# print(' /// BEFORE ///  ')\n",
    "# print(neighborgraph)\n",
    "\n",
    "for k,v in neighborgraph.items():\n",
    "    if len(v)==0:\n",
    "        neighborgraph = nested_delete(neighborgraph,k)\n",
    "# print(' /// AFTER ///  ')\n",
    "# print(neighborgraph)\n",
    "\n",
    "newG =nx.DiGraph(neighborgraph)\n",
    "deadnodes = [node for node,degree in dict(newG.out_degree()).items() if degree == 0]\n",
    "\n",
    "newG.remove_nodes_from(deadnodes)\n",
    "nx.write_gexf(newG, \"testSqrt.gexf\")\n",
    "# newFG =nx.DiGraph(neighborgraph)\n",
    "# print(newG.out_degree())\n",
    "# deadnodes = [node for node,degree in dict(newFG.out_degree()).items() if degree == 0]\n",
    "\n",
    "# newFG.remove_nodes_from(deadnodes)\n",
    "options = {\n",
    "#     'width':1.0,\n",
    "#     'node_color':'white',\n",
    "    'alpha':0.572,\n",
    "#     'edge_color':'white',\n",
    "    'node_size':700,\n",
    "    \"connectionstyle\":'arc3, rad = 0.1',\n",
    "    'with_labels':True,\n",
    "    'font_size':'small',\n",
    "    'font_color':'black',\n",
    "    'font_weight':'bold'\n",
    "}\n",
    "\n",
    "# pos = nx.circular_layout(newG)\n",
    "# pos = nx.circular_layout(newFG)\n",
    "# nx.draw(newG,pos,**options)\n",
    "# nx.draw(newFG,pos,**options)\n"
   ]
  },
  {
   "cell_type": "code",
   "execution_count": 103,
   "metadata": {},
   "outputs": [
    {
     "data": {
      "image/png": "[encoded data removed]",
      "text/plain": [
       "<Figure size 432x288 with 1 Axes>"
      ]
     },
     "metadata": {},
     "output_type": "display_data"
    }
   ],
   "source": [
    "\n",
    "neighborgraph = neighGraphAlg(0.05277415108645189611947896053229129518349675421389 + \n",
    " 0.68814740940655613016868820363694147172435466851358j,13)\n",
    "\n",
    "for k,v in neighborgraph.items():\n",
    "    if len(v)==0:\n",
    "        neighborgraph = nested_delete(neighborgraph,k)\n",
    "\n",
    "newG =nx.DiGraph(neighborgraph)\n",
    "deadnodes = [node for node,degree in dict(newG.out_degree()).items() if degree == 0]\n",
    "\n",
    "newG.remove_nodes_from(deadnodes)\n",
    "options = {\n",
    "#     'width':1.0,\n",
    "#     'node_color':'white',\n",
    "    'alpha':0.572,\n",
    "#     'edge_color':'white',\n",
    "    'node_size':700,\n",
    "    \"connectionstyle\":'arc3, rad = 0.1',\n",
    "    'with_labels':True,\n",
    "    'font_size':'small',\n",
    "    'font_color':'black',\n",
    "    'font_weight':'bold'\n",
    "}\n",
    "\n",
    "pos = nx.spectral_layout(newG)\n",
    "nx.draw(newG,pos,**options)"
   ]
  },
  {
   "cell_type": "code",
   "execution_count": 89,
   "metadata": {},
   "outputs": [
    {
     "data": {
      "text/plain": [
       "(0.25+0.6614378277661477j)"
      ]
     },
     "execution_count": 89,
     "metadata": {},
     "output_type": "execute_result"
    }
   ],
   "source": [
    "(1+np.sqrt(7)*1j)/4"
   ]
  },
  {
   "cell_type": "code",
   "execution_count": null,
   "metadata": {},
   "outputs": [],
   "source": [
    "# from nested_lookup import nested_delete\n",
    "# import json\n",
    "\n",
    "newdict={'a':{'aa':{'aaa':0},'jj':{'jjj':7}},\n",
    "         'b':{'bb':{'bbb':1,'bbbb':2}},\n",
    "         'c':{'cc':{'ccc':3}},\n",
    "         'd':{'dd':{'ddd':1,'dddd':2}},\n",
    "         'e':{'aa':{'aaa':0},'gg':{'ggg':2}},\n",
    "         'aa':{}\n",
    "        }\n",
    "\n",
    "{k:v for k,v in newdict.items() if bool(v)}\n",
    "# ict =  {'a':{'aa':{'aaa':0}},'c':{'cc':{'ccc':3}} }\n",
    "# val = [key for i in list(ict.values()) for key in i.keys()]\n",
    "# print(val) \n",
    "# print( ict.keys() )\n",
    "# newDict = newdict\n",
    "# for k in ict:\n",
    "#     newDict=nested_delete(newDict,k)\n",
    "# print(newDict)\n",
    "# print('')\n",
    "# print(newdict)\n",
    "# {k:v for (k,v) in newdict.items() if isinstance(v, dict) }"
   ]
  },
  {
   "cell_type": "code",
   "execution_count": null,
   "metadata": {},
   "outputs": [],
   "source": [
    "pip install nested_lookup"
   ]
  },
  {
   "cell_type": "code",
   "execution_count": 108,
   "metadata": {},
   "outputs": [
    {
     "data": {
      "text/plain": [
       "mpc(real='2.8284271247461903483467210294237738115367269382644596', imag='0.0')"
      ]
     },
     "execution_count": 108,
     "metadata": {},
     "output_type": "execute_result"
    }
   ],
   "source": [
    "mp.mpc(2./mp.mpc(1/np.sqrt(2)))"
   ]
  },
  {
   "cell_type": "code",
   "execution_count": 110,
   "metadata": {},
   "outputs": [
    {
     "data": {
      "text/plain": [
       "mpc(real='2.828427124746190290949243717477656900882720947265625', imag='0.0')"
      ]
     },
     "execution_count": 110,
     "metadata": {},
     "output_type": "execute_result"
    }
   ],
   "source": [
    "mp.mpc(2)/(mp.mpc(1)/mp.mpc(np.sqrt(2)))"
   ]
  },
  {
   "cell_type": "code",
   "execution_count": null,
   "metadata": {},
   "outputs": [],
   "source": [
    "2.8284271247461900976033774484193961571393437507539"
   ]
  }
 ],
 "metadata": {
  "kernelspec": {
   "display_name": "Python 3",
   "language": "python",
   "name": "python3"
  },
  "language_info": {
   "codemirror_mode": {
    "name": "ipython",
    "version": 3
   },
   "file_extension": ".py",
   "mimetype": "text/x-python",
   "name": "python",
   "nbconvert_exporter": "python",
   "pygments_lexer": "ipython3",
   "version": "3.8.13"
  }
 },
 "nbformat": 4,
 "nbformat_minor": 5
}
