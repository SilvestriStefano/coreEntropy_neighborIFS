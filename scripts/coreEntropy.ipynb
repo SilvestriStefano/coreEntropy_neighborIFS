{
 "cells": [
  {
   "cell_type": "code",
   "execution_count": 1,
   "id": "d4bc9c7b",
   "metadata": {},
   "outputs": [],
   "source": [
    "from src import angles as ang\n",
    "from fractions import Fraction as Frac"
   ]
  },
  {
   "cell_type": "code",
   "execution_count": 84,
   "id": "d80442bb",
   "metadata": {},
   "outputs": [],
   "source": [
    "def coreEntropy(num, den):\n",
    "    #define a new rational angle\n",
    "    theta = ang.Angle(num,den)\n",
    "    \n",
    "    thetaFr = Frac(theta.num,theta.den)#represent it as a fraction\n",
    "   \n",
    "    #compute the orbit and find the period\n",
    "    theta.period()\n",
    "    orb = theta.orbit_list\n",
    "    period_length = theta.per_len\n",
    "    period_start = theta.start_index_per\n",
    "    \n",
    "    #partition of the circle\n",
    "    intOne = (thetaFr*Frac(1,2),(thetaFr+Frac(1,1))*Frac(1,2))\n",
    "    \n",
    "    print(f\"The angle is {thetaFr} \\n which has a period of {period_length} \\n and the porbit is {orb}\\n\")\n",
    "    print(f\"partition the circle in two intervals: {intOne} and {(intOne[1],intOne[0])}\\n\")\n",
    "    \n",
    "    #create the vertex set of the wedge\n",
    "    tuples = sorted([(i,j) for i in range(1,len(orb[:-1])) for j in range(1,len(orb[:-1])) if i<=j])\n",
    "    #define the separated and non-separated vertices\n",
    "    dicTuples = {}\n",
    "    for tup in tuples:\n",
    "        i=tup[0]\n",
    "        j=tup[1]\n",
    "        print(f\"the tuple {tup} corresponding to the angles {orb[i-1]} and {orb[j-1]}\")\n",
    "        if i==j:\n",
    "            print(\"is not separated\\n\")\n",
    "            dicTuples.update({tup:{'sep':False,'mapsTo':[(i+1,j+1)]}})\n",
    "        elif ((intOne[0]<orb[i-1]<intOne[1] and intOne[0]<orb[j-1]<intOne[1]) or (intOne[1]<=orb[i-1] and intOne[1]<=orb[j-1])):\n",
    "            print(\"is not separated\\n\")\n",
    "            dicTuples.update({tup:{'sep':False,'mapsTo':[(i+1,j+1)]}})\n",
    "        else:\n",
    "            print(\"is separated\\n\")\n",
    "            dicTuples.update({tup:{'sep':True,'mapsTo':[(1,i+1),(1,j+1)]}})\n",
    "    print(dicTuples)\n",
    "            \n",
    "    "
   ]
  },
  {
   "cell_type": "code",
   "execution_count": 87,
   "id": "1c5f92be",
   "metadata": {},
   "outputs": [
    {
     "name": "stdout",
     "output_type": "stream",
     "text": [
      "The angle is 3/7 \n",
      " which has a period of 3 \n",
      " and the porbit is [Fraction(3, 7), Fraction(6, 7), Fraction(5, 7), Fraction(3, 7)]\n",
      "\n",
      "partition the circle in two intervals: (Fraction(3, 14), Fraction(5, 7)) and (Fraction(5, 7), Fraction(3, 14))\n",
      "\n",
      "the tuple (1, 1) corresponding to the angles 3/7 and 3/7\n",
      "is not separated\n",
      "\n",
      "the tuple (1, 2) corresponding to the angles 3/7 and 6/7\n",
      "is separated\n",
      "\n",
      "the tuple (2, 2) corresponding to the angles 6/7 and 6/7\n",
      "is not separated\n",
      "\n",
      "{(1, 1): {'sep': False, 'mapsTo': [(2, 2)]}, (1, 2): {'sep': True, 'mapsTo': [(1, 2), (1, 3)]}, (2, 2): {'sep': False, 'mapsTo': [(3, 3)]}}\n"
     ]
    }
   ],
   "source": [
    "coreEntropy(3,7)"
   ]
  },
  {
   "cell_type": "code",
   "execution_count": null,
   "id": "a1df8b0a",
   "metadata": {},
   "outputs": [],
   "source": []
  }
 ],
 "metadata": {
  "kernelspec": {
   "display_name": "Python 3 (ipykernel)",
   "language": "python",
   "name": "python3"
  },
  "language_info": {
   "codemirror_mode": {
    "name": "ipython",
    "version": 3
   },
   "file_extension": ".py",
   "mimetype": "text/x-python",
   "name": "python",
   "nbconvert_exporter": "python",
   "pygments_lexer": "ipython3",
   "version": "3.8.12"
  }
 },
 "nbformat": 4,
 "nbformat_minor": 5
}
