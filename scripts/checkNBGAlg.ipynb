{
 "cells": [
  {
   "cell_type": "code",
   "execution_count": 1,
   "metadata": {},
   "outputs": [],
   "source": [
    "import networkx as nx\n",
    "import matplotlib.pyplot as plt\n",
    "import numpy as np\n",
    "from nested_lookup import nested_delete\n",
    "from src import functions as fcn"
   ]
  },
  {
   "cell_type": "code",
   "execution_count": 2,
   "metadata": {},
   "outputs": [],
   "source": [
    "lambdas = [\n",
    "    0.366875964264129 + 0.520259438865201*1j, #3/14\n",
    "    0.595743941976559 + 0.254425889416369*1j #3/8\n",
    "]"
   ]
  },
  {
   "cell_type": "code",
   "execution_count": 8,
   "metadata": {},
   "outputs": [
    {
     "data": {
      "text/plain": [
       "{'id': {'h1': {'label': '- +', 'weight': 0.25}},\n",
       " 'h1': {'h3': {'label': '+ -', 'weight': 0.75}},\n",
       " 'h3': {'h5': {'label': '+ -', 'weight': 0.75}},\n",
       " 'h5': {'h5': {'label': '- +', 'weight': 0.25}}}"
      ]
     },
     "execution_count": 8,
     "metadata": {},
     "output_type": "execute_result"
    }
   ],
   "source": [
    "neighborgraph = fcn.nbhG(lambdas[1],13)\n",
    "neighborgraph"
   ]
  },
  {
   "cell_type": "code",
   "execution_count": 3,
   "metadata": {},
   "outputs": [
    {
     "data": {
      "text/plain": [
       "{'id': {'h1': {'label': '- +', 'weight': 0.25}},\n",
       " 'h1': {'h2': {'label': ' + '}},\n",
       " 'h2': {'h2': {'label': ' - '}}}"
      ]
     },
     "execution_count": 3,
     "metadata": {},
     "output_type": "execute_result"
    }
   ],
   "source": [
    "neighborgraph = fcn.nbhG(lambdas[1],13)\n",
    "neighborgraph"
   ]
  },
  {
   "cell_type": "code",
   "execution_count": 4,
   "metadata": {},
   "outputs": [
    {
     "data": {
      "image/png": "[encoded data removed]",
      "text/plain": [
       "<Figure size 432x288 with 1 Axes>"
      ]
     },
     "metadata": {},
     "output_type": "display_data"
    }
   ],
   "source": [
    "newG =nx.DiGraph(neighborgraph)\n",
    "\n",
    "# for k,v in neighborgraph.items():\n",
    "#     if len(v)==0:\n",
    "#         neighborgraph = nested_delete(neighborgraph,k)\n",
    "        \n",
    "newG =nx.DiGraph(neighborgraph)\n",
    "\n",
    "# deadnodes = [node for node,degree in dict(newG.out_degree()).items() if degree == 0]\n",
    "# newG.remove_nodes_from(deadnodes)\n",
    "\n",
    "options = {\n",
    "#     'width':1.0,\n",
    "#     'node_color':'white',\n",
    "    'alpha':0.572,\n",
    "#     'edge_color':'white',\n",
    "    'node_size':700,\n",
    "    \"connectionstyle\":'arc3, rad = 0.1',\n",
    "    'with_labels':True,\n",
    "    'font_size':'small',\n",
    "    'font_color':'black',\n",
    "    'font_weight':'bold'\n",
    "}\n",
    "\n",
    "pos = nx.spectral_layout(newG)\n",
    "nx.draw(newG,pos,**options)"
   ]
  },
  {
   "cell_type": "code",
   "execution_count": null,
   "metadata": {},
   "outputs": [],
   "source": []
  }
 ],
 "metadata": {
  "kernelspec": {
   "display_name": "Python 3",
   "language": "python",
   "name": "python3"
  },
  "language_info": {
   "codemirror_mode": {
    "name": "ipython",
    "version": 3
   },
   "file_extension": ".py",
   "mimetype": "text/x-python",
   "name": "python",
   "nbconvert_exporter": "python",
   "pygments_lexer": "ipython3",
   "version": "3.8.13"
  },
  "vscode": {
   "interpreter": {
    "hash": "916dbcbb3f70747c44a77c7bcd40155683ae19c65e1c03b4aa3499c5328201f1"
   }
  }
 },
 "nbformat": 4,
 "nbformat_minor": 2
}
