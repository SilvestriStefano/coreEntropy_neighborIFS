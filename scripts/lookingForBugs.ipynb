{
 "cells": [
  {
   "cell_type": "code",
   "execution_count": 1,
   "id": "0baba1ea",
   "metadata": {},
   "outputs": [],
   "source": [
    "from src import angles as ang\n",
    "\n",
    "alpha = ang.Angle(3,14)"
   ]
  },
  {
   "cell_type": "code",
   "execution_count": 2,
   "id": "4fbe2ea9",
   "metadata": {},
   "outputs": [
    {
     "name": "stdout",
     "output_type": "stream",
     "text": [
      "          assoc_lambda()->itin_to_rat was not called\n",
      "        itin_to_rat()->attr_itin_from_ks was not called\n",
      "    attr_itin_from_ks()->ks_from_angle was not called\n",
      "  ks_from_angle()->orbit was not called\n",
      "  ---------ks_from_angle()1------------\n",
      "  ks_from_angle()->period was not called\n",
      "  ----------ks_from_angle()2------------\n",
      "    ---------------attr_itin_from_ks()1--------------\n",
      "        ---------------itin_to_rat()1------------------\n",
      "        itin_to_rat()->period_length_itin was not called\n",
      "        ----------------itin_to_rat()2------------------\n",
      "          --------------assoc_lambda()--------------\n"
     ]
    }
   ],
   "source": [
    "alpha.assoc_lambda()"
   ]
  },
  {
   "cell_type": "code",
   "execution_count": 3,
   "id": "f8a1a76a",
   "metadata": {},
   "outputs": [
    {
     "data": {
      "text/latex": [
       "$\\displaystyle \\emptyset$"
      ],
      "text/plain": [
       "EmptySet"
      ]
     },
     "execution_count": 3,
     "metadata": {},
     "output_type": "execute_result"
    }
   ],
   "source": [
    "alpha.lam"
   ]
  },
  {
   "cell_type": "code",
   "execution_count": 4,
   "id": "2e4776ee",
   "metadata": {},
   "outputs": [
    {
     "data": {
      "text/plain": [
       "'+-+++-'"
      ]
     },
     "execution_count": 4,
     "metadata": {},
     "output_type": "execute_result"
    }
   ],
   "source": [
    "alpha.itin"
   ]
  },
  {
   "cell_type": "code",
   "execution_count": 1,
   "id": "223ba13f",
   "metadata": {},
   "outputs": [],
   "source": [
    "from src import angles as ang\n",
    "\n",
    "alpha = ang.Angle(11,62)"
   ]
  },
  {
   "cell_type": "code",
   "execution_count": 2,
   "id": "2868c25b",
   "metadata": {},
   "outputs": [],
   "source": [
    "alpha.assoc_lambda()"
   ]
  },
  {
   "cell_type": "code",
   "execution_count": 5,
   "id": "fd1e8911",
   "metadata": {},
   "outputs": [
    {
     "data": {
      "text/latex": [
       "$\\displaystyle 0.30024259022012 - 0.624810533843827 i$"
      ],
      "text/plain": [
       "0.30024259022012 - 0.624810533843827*I"
      ]
     },
     "execution_count": 5,
     "metadata": {},
     "output_type": "execute_result"
    }
   ],
   "source": [
    "alpha.lam.evalf()"
   ]
  },
  {
   "cell_type": "code",
   "execution_count": 9,
   "id": "e19990d0",
   "metadata": {},
   "outputs": [
    {
     "data": {
      "text/plain": [
       "sympy.core.add.Add"
      ]
     },
     "execution_count": 9,
     "metadata": {},
     "output_type": "execute_result"
    }
   ],
   "source": [
    "type(alpha.lam.evalf())"
   ]
  },
  {
   "cell_type": "code",
   "execution_count": 13,
   "id": "f8431e8b",
   "metadata": {},
   "outputs": [],
   "source": [
    "alpha_tuple=alpha.lam.evalf().as_real_imag()\n",
    "lamb=alpha_tuple[0]+alpha_tuple[1]*1j"
   ]
  },
  {
   "cell_type": "code",
   "execution_count": 14,
   "id": "b26bc3e9",
   "metadata": {},
   "outputs": [
    {
     "data": {
      "text/latex": [
       "$\\displaystyle 0.30024259022012 - 0.624810533843827 i$"
      ],
      "text/plain": [
       "0.30024259022012 - 0.624810533843827*I"
      ]
     },
     "execution_count": 14,
     "metadata": {},
     "output_type": "execute_result"
    }
   ],
   "source": [
    "lamb"
   ]
  },
  {
   "cell_type": "code",
   "execution_count": 7,
   "id": "b7a10fe2",
   "metadata": {},
   "outputs": [
    {
     "data": {
      "text/plain": [
       "'(+x**0-x**1)*(1-x**12) +(+x**2+x**3-x**4-x**5-x**6+x**7-x**8-x**9+x**10+x**11+x**12-x**13)'"
      ]
     },
     "execution_count": 7,
     "metadata": {},
     "output_type": "execute_result"
    }
   ],
   "source": [
    "alpha.rat_func"
   ]
  },
  {
   "cell_type": "code",
   "execution_count": 17,
   "id": "6058733a",
   "metadata": {},
   "outputs": [
    {
     "ename": "TypeError",
     "evalue": "cannot create mpf from 2.08101899662454*(-1.24962106768765 - 2.60048518044024*I)*(0.30024259022012 + 0.624810533843827*I)",
     "output_type": "error",
     "traceback": [
      "\u001b[1;31m---------------------------------------------------------------------------\u001b[0m",
      "\u001b[1;31mTypeError\u001b[0m                                 Traceback (most recent call last)",
      "Input \u001b[1;32mIn [17]\u001b[0m, in \u001b[0;36m<module>\u001b[1;34m\u001b[0m\n\u001b[0;32m      1\u001b[0m \u001b[38;5;28;01mfrom\u001b[39;00m \u001b[38;5;21;01msrc\u001b[39;00m \u001b[38;5;28;01mimport\u001b[39;00m functions \u001b[38;5;28;01mas\u001b[39;00m fcn\n\u001b[1;32m----> 3\u001b[0m \u001b[43mfcn\u001b[49m\u001b[38;5;241;43m.\u001b[39;49m\u001b[43mneighGraphAlg\u001b[49m\u001b[43m(\u001b[49m\u001b[43mlamb\u001b[49m\u001b[43m,\u001b[49m\u001b[38;5;241;43m3\u001b[39;49m\u001b[43m)\u001b[49m\n",
      "File \u001b[1;32md:\\stefano\\univ\\research\\coreentropy_neighborifs\\src\\functions.py:65\u001b[0m, in \u001b[0;36mneighGraphAlg\u001b[1;34m(param, maxDepth)\u001b[0m\n\u001b[0;32m     62\u001b[0m \u001b[38;5;66;03m# ----------------------------- for each vertex in newVertices --------------------------------------------\u001b[39;00m\n\u001b[0;32m     63\u001b[0m \u001b[38;5;28;01mfor\u001b[39;00m keyNb,valNb \u001b[38;5;129;01min\u001b[39;00m newVertices\u001b[38;5;241m.\u001b[39mitems():\n\u001b[0;32m     64\u001b[0m     \u001b[38;5;66;03m#compute the possible new neighbors\u001b[39;00m\n\u001b[1;32m---> 65\u001b[0m     phiStar \u001b[38;5;241m=\u001b[39m \u001b[43mmp\u001b[49m\u001b[38;5;241;43m.\u001b[39;49m\u001b[43mmpc\u001b[49m\u001b[43m(\u001b[49m\u001b[38;5;241;43m1\u001b[39;49m\u001b[38;5;241;43m/\u001b[39;49m\u001b[43mparam\u001b[49m\u001b[38;5;241;43m*\u001b[39;49m\u001b[43m(\u001b[49m\u001b[43mvalNb\u001b[49m\u001b[43m)\u001b[49m\u001b[43m)\u001b[49m \u001b[38;5;66;03m# corresponds to fpm^(-1) g fpm\u001b[39;00m\n\u001b[0;32m     66\u001b[0m     phiPM \u001b[38;5;241m=\u001b[39m mp\u001b[38;5;241m.\u001b[39mmpc(\u001b[38;5;241m1\u001b[39m\u001b[38;5;241m/\u001b[39mparam\u001b[38;5;241m*\u001b[39m(valNb\u001b[38;5;241m-\u001b[39m\u001b[38;5;241m2\u001b[39m)) \u001b[38;5;66;03m# corresponds to fp^(-1) g fm\u001b[39;00m\n\u001b[0;32m     67\u001b[0m     phiMP \u001b[38;5;241m=\u001b[39m mp\u001b[38;5;241m.\u001b[39mmpc(\u001b[38;5;241m1\u001b[39m\u001b[38;5;241m/\u001b[39mparam\u001b[38;5;241m*\u001b[39m(valNb\u001b[38;5;241m+\u001b[39m\u001b[38;5;241m2\u001b[39m)) \u001b[38;5;66;03m# corresponds to fm^(-1) g fp\u001b[39;00m\n",
      "File \u001b[1;32m~\\anaconda3\\envs\\mandel_thurston\\lib\\site-packages\\mpmath\\ctx_mp_python.py:373\u001b[0m, in \u001b[0;36m_mpc.__new__\u001b[1;34m(cls, real, imag)\u001b[0m\n\u001b[0;32m    371\u001b[0m     s\u001b[38;5;241m.\u001b[39m_mpc_ \u001b[38;5;241m=\u001b[39m real\u001b[38;5;241m.\u001b[39m_mpc_\n\u001b[0;32m    372\u001b[0m     \u001b[38;5;28;01mreturn\u001b[39;00m s\n\u001b[1;32m--> 373\u001b[0m real \u001b[38;5;241m=\u001b[39m \u001b[38;5;28;43mcls\u001b[39;49m\u001b[38;5;241;43m.\u001b[39;49m\u001b[43mcontext\u001b[49m\u001b[38;5;241;43m.\u001b[39;49m\u001b[43mmpf\u001b[49m\u001b[43m(\u001b[49m\u001b[43mreal\u001b[49m\u001b[43m)\u001b[49m\n\u001b[0;32m    374\u001b[0m imag \u001b[38;5;241m=\u001b[39m \u001b[38;5;28mcls\u001b[39m\u001b[38;5;241m.\u001b[39mcontext\u001b[38;5;241m.\u001b[39mmpf(imag)\n\u001b[0;32m    375\u001b[0m s\u001b[38;5;241m.\u001b[39m_mpc_ \u001b[38;5;241m=\u001b[39m (real\u001b[38;5;241m.\u001b[39m_mpf_, imag\u001b[38;5;241m.\u001b[39m_mpf_)\n",
      "File \u001b[1;32m~\\anaconda3\\envs\\mandel_thurston\\lib\\site-packages\\mpmath\\ctx_mp_python.py:77\u001b[0m, in \u001b[0;36m_mpf.__new__\u001b[1;34m(cls, val, **kwargs)\u001b[0m\n\u001b[0;32m     75\u001b[0m \u001b[38;5;28;01melse\u001b[39;00m:\n\u001b[0;32m     76\u001b[0m     v \u001b[38;5;241m=\u001b[39m new(\u001b[38;5;28mcls\u001b[39m)\n\u001b[1;32m---> 77\u001b[0m     v\u001b[38;5;241m.\u001b[39m_mpf_ \u001b[38;5;241m=\u001b[39m mpf_pos(\u001b[38;5;28;43mcls\u001b[39;49m\u001b[38;5;241;43m.\u001b[39;49m\u001b[43mmpf_convert_arg\u001b[49m\u001b[43m(\u001b[49m\u001b[43mval\u001b[49m\u001b[43m,\u001b[49m\u001b[43m \u001b[49m\u001b[43mprec\u001b[49m\u001b[43m,\u001b[49m\u001b[43m \u001b[49m\u001b[43mrounding\u001b[49m\u001b[43m)\u001b[49m, prec, rounding)\n\u001b[0;32m     78\u001b[0m     \u001b[38;5;28;01mreturn\u001b[39;00m v\n",
      "File \u001b[1;32m~\\anaconda3\\envs\\mandel_thurston\\lib\\site-packages\\mpmath\\ctx_mp_python.py:96\u001b[0m, in \u001b[0;36m_mpf.mpf_convert_arg\u001b[1;34m(cls, x, prec, rounding)\u001b[0m\n\u001b[0;32m     94\u001b[0m         \u001b[38;5;28;01mreturn\u001b[39;00m a\n\u001b[0;32m     95\u001b[0m     \u001b[38;5;28;01mraise\u001b[39;00m \u001b[38;5;167;01mValueError\u001b[39;00m(\u001b[38;5;124m\"\u001b[39m\u001b[38;5;124mcan only create mpf from zero-width interval\u001b[39m\u001b[38;5;124m\"\u001b[39m)\n\u001b[1;32m---> 96\u001b[0m \u001b[38;5;28;01mraise\u001b[39;00m \u001b[38;5;167;01mTypeError\u001b[39;00m(\u001b[38;5;124m\"\u001b[39m\u001b[38;5;124mcannot create mpf from \u001b[39m\u001b[38;5;124m\"\u001b[39m \u001b[38;5;241m+\u001b[39m \u001b[38;5;28mrepr\u001b[39m(x))\n",
      "\u001b[1;31mTypeError\u001b[0m: cannot create mpf from 2.08101899662454*(-1.24962106768765 - 2.60048518044024*I)*(0.30024259022012 + 0.624810533843827*I)"
     ]
    }
   ],
   "source": [
    "from src import functions as fcn\n",
    "\n",
    "fcn.neighGraphAlg(lamb,3)"
   ]
  },
  {
   "cell_type": "code",
   "execution_count": null,
   "id": "7d0417db",
   "metadata": {},
   "outputs": [],
   "source": []
  }
 ],
 "metadata": {
  "kernelspec": {
   "display_name": "Python 3 (ipykernel)",
   "language": "python",
   "name": "python3"
  },
  "language_info": {
   "codemirror_mode": {
    "name": "ipython",
    "version": 3
   },
   "file_extension": ".py",
   "mimetype": "text/x-python",
   "name": "python",
   "nbconvert_exporter": "python",
   "pygments_lexer": "ipython3",
   "version": "3.8.12"
  }
 },
 "nbformat": 4,
 "nbformat_minor": 5
}
